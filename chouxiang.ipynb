{
 "cells": [
  {
   "cell_type": "code",
   "execution_count": 1,
   "id": "b681f46a",
   "metadata": {},
   "outputs": [],
   "source": [
    "import pypinyin as pypy\n",
    "import pandas as pd\n",
    "import emoji"
   ]
  },
  {
   "cell_type": "code",
   "execution_count": 5,
   "id": "4e7c71c8",
   "metadata": {
    "scrolled": true
   },
   "outputs": [
    {
     "name": "stdout",
     "output_type": "stream",
     "text": [
      "请输入你的家乡大白话：\n",
      "\n",
      "\t\t我是你爹\n",
      "这是你的抽象话：\n",
      "\n",
      "\t\t👨‍🦳️🔟️👦️🛸️\n"
     ]
    }
   ],
   "source": [
    "# %load chouxianghua.py\n",
    "# Create a dictionary which defines all the chouxiangs that can represent specific dabaihua\n",
    "\n",
    "chouxiang_dic = pd.read_excel('dabai-chouxiang_dictionary.xlsx',header = 0)\n",
    "\n",
    "# Ask the user for dabaihua input.\n",
    "input_dabaihua = input('请输入你的家乡大白话：\\n\\n\\t\\t')\n",
    "\n",
    "# Convert dahaihua into pinyin.\n",
    "dabaihua_pinyin = pypy.pinyin(input_dabaihua,style = pypy.NORMAL)\n",
    "\n",
    "# Create a list for collecting all chouxiang characters translated from the dabaihua input.\n",
    "chouxianghua_list = []\n",
    "\n",
    "# Chouxiangfy the dabaihua input, word by word\n",
    "i = 0\n",
    "for dabai_character in dabaihua_pinyin:\n",
    "    # E.g. ['wo'] to 'wo'\n",
    "    dabai_character = ' '.join(dabai_character)\n",
    "    youmeiyou = chouxiang_dic[chouxiang_dic.pinyin == dabai_character].index.values\n",
    "    if len(youmeiyou) > 0:\n",
    "        chouxiang_character = ':'+chouxiang_dic.code[youmeiyou[0]]+':'\n",
    "    else:\n",
    "        chouxiang_character = input_dabaihua[i]\n",
    "    chouxianghua_list.append(chouxiang_character)\n",
    "    i = i+1\n",
    "\n",
    "# Put together the individually translated chouxiang characters.\n",
    "chouxianghua = ''.join(chouxianghua_list)\n",
    "print(emoji.emojize('这是你的抽象话：\\n\\n\\t\\t' + chouxianghua,variant=\"emoji_type\"))\n"
   ]
  },
  {
   "cell_type": "code",
   "execution_count": null,
   "id": "b4e37bed",
   "metadata": {},
   "outputs": [],
   "source": []
  }
 ],
 "metadata": {
  "kernelspec": {
   "display_name": "Python 3",
   "language": "python",
   "name": "python3"
  },
  "language_info": {
   "codemirror_mode": {
    "name": "ipython",
    "version": 3
   },
   "file_extension": ".py",
   "mimetype": "text/x-python",
   "name": "python",
   "nbconvert_exporter": "python",
   "pygments_lexer": "ipython3",
   "version": "3.8.8"
  }
 },
 "nbformat": 4,
 "nbformat_minor": 5
}
